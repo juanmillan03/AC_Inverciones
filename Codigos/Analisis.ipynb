{
 "cells": [
  {
   "cell_type": "code",
   "execution_count": 1,
   "metadata": {},
   "outputs": [],
   "source": [
    "import numpy as np\n",
    "import matplotlib.pyplot as plt"
   ]
  },
  {
   "cell_type": "code",
   "execution_count": 2,
   "metadata": {},
   "outputs": [
    {
     "name": "stderr",
     "output_type": "stream",
     "text": [
      "/tmp/ipykernel_5938/3561522066.py:8: FutureWarning: The 'delim_whitespace' keyword in pd.read_csv is deprecated and will be removed in a future version. Use ``sep='\\s+'`` instead\n",
      "  data_N1= pd.read_csv(file_N1, delim_whitespace=True, header=None)\n",
      "/tmp/ipykernel_5938/3561522066.py:12: FutureWarning: The 'delim_whitespace' keyword in pd.read_csv is deprecated and will be removed in a future version. Use ``sep='\\s+'`` instead\n",
      "  data_N2 = pd.read_csv(file_N2, delim_whitespace=True, header=None)\n",
      "/tmp/ipykernel_5938/3561522066.py:16: FutureWarning: The 'delim_whitespace' keyword in pd.read_csv is deprecated and will be removed in a future version. Use ``sep='\\s+'`` instead\n",
      "  data_M1 = pd.read_csv(file_M1, delim_whitespace=True, header=None)\n",
      "/tmp/ipykernel_5938/3561522066.py:20: FutureWarning: The 'delim_whitespace' keyword in pd.read_csv is deprecated and will be removed in a future version. Use ``sep='\\s+'`` instead\n",
      "  data_M2 = pd.read_csv(file_M2, delim_whitespace=True, header=None)\n"
     ]
    }
   ],
   "source": [
    "import pandas as pd\n",
    "import matplotlib.pyplot as plt\n",
    "import seaborn as sns\n",
    "%matplotlib qt\n",
    "# Cargar los datos desde el archivo txt\n",
    "file_N1 = \"datos_t_inter_Neumann1.txt\"\n",
    "\n",
    "data_N1= pd.read_csv(file_N1, delim_whitespace=True, header=None)\n",
    "data_N1.columns = [\"L\", \"P1\", \"P2\", \"t_int\"]  # Nombrar las columnas\n",
    "\n",
    "file_N2 = \"datos_t_inter_Neumann2.txt\"\n",
    "data_N2 = pd.read_csv(file_N2, delim_whitespace=True, header=None)\n",
    "data_N2.columns = [\"L\", \"P1\", \"P2\", \"t_int\"]  # Nombrar las columnas\n",
    "\n",
    "file_M1 = \"datos_t_inter_Moore1.txt\"\n",
    "data_M1 = pd.read_csv(file_M1, delim_whitespace=True, header=None)\n",
    "data_M1.columns = [\"L\", \"P1\", \"P2\", \"t_int\"]  # Nombrar las columnas\n",
    "\n",
    "file_M2 = \"datos_t_inter_Moore2.txt\"\n",
    "data_M2 = pd.read_csv(file_M2, delim_whitespace=True, header=None)\n",
    "data_M2.columns = [\"L\", \"P1\", \"P2\", \"t_int\"]  # Nombrar las columnas\n",
    "\n"
   ]
  },
  {
   "cell_type": "markdown",
   "metadata": {},
   "source": [
    "# Moore radio 1\n"
   ]
  },
  {
   "cell_type": "code",
   "execution_count": 18,
   "metadata": {},
   "outputs": [],
   "source": [
    "L=40\n",
    "# Filtrar los datos\n",
    "filtered_data = data_M1[(data_M1[\"L\"] == L)]\n",
    "# Crear una tabla pivote con P1 (evaluación) en el eje X, P2 (regreso) en el eje Y y t_int como el valor\n",
    "heatmap_data = filtered_data.pivot_table(index=\"P2\", columns=\"P1\", values=\"t_int\")\n",
    "# Revertir el orden del índice para que el eje Y no esté al revés\n",
    "heatmap_data = heatmap_data.sort_index(ascending=False)\n",
    "\n",
    "# Graficar el heatmap sin anotaciones\n",
    "plt.figure(figsize=(12, 8))\n",
    "sns.heatmap(heatmap_data, cmap=\"rocket\", cbar_kws={'label': 't_int (Tiempo de Intersección)'})\n",
    "plt.title(f\"Relación entre P evaluación, P regreso y t_int para L={L} {file_M1[-10:-4]}\")\n",
    "plt.xlabel(\"P evaluación\")\n",
    "plt.ylabel(\"P regreso\")\n",
    "plt.show()\n"
   ]
  },
  {
   "cell_type": "code",
   "execution_count": 4,
   "metadata": {},
   "outputs": [
    {
     "name": "stderr",
     "output_type": "stream",
     "text": [
      "/tmp/ipykernel_5938/1636789934.py:3: FutureWarning: The 'delim_whitespace' keyword in pd.read_csv is deprecated and will be removed in a future version. Use ``sep='\\s+'`` instead\n",
      "  data= pd.read_csv(file, delim_whitespace=True, header=None)\n"
     ]
    }
   ],
   "source": [
    "file = \"datos_t_inter_Moore1_SW.txt\"\n",
    "\n",
    "data= pd.read_csv(file, delim_whitespace=True, header=None)\n",
    "data.columns = [\"L\", \"P1\", \"P2\", \"t_int\"]  # Nombrar las columnas\n",
    "\n",
    "# Filtrar los datos\n",
    "filtered_data = data[(data[\"L\"] == L)]\n",
    "# Crear una tabla pivote con P1 (evaluación) en el eje X, P2 (regreso) en el eje Y y t_int como el valor\n",
    "heatmap_data = filtered_data.pivot_table(index=\"P2\", columns=\"P1\", values=\"t_int\")\n",
    "# Revertir el orden del índice para que el eje Y no esté al revés\n",
    "heatmap_data = heatmap_data.sort_index(ascending=False)\n",
    "\n",
    "# Graficar el heatmap sin anotaciones\n",
    "plt.figure(figsize=(12, 8))\n",
    "sns.heatmap(heatmap_data, cmap=\"rocket\", cbar_kws={'label': 't_int (Tiempo de Intersección)'})\n",
    "plt.title(f\"Relación entre P evaluación, P regreso y t_int para L={L} {file[-13:-4]}\")\n",
    "plt.xlabel(\"P evaluación\")\n",
    "plt.ylabel(\"P regreso\")\n",
    "plt.show()"
   ]
  },
  {
   "cell_type": "code",
   "execution_count": 5,
   "metadata": {},
   "outputs": [
    {
     "name": "stderr",
     "output_type": "stream",
     "text": [
      "/tmp/ipykernel_5938/172087310.py:3: FutureWarning: The 'delim_whitespace' keyword in pd.read_csv is deprecated and will be removed in a future version. Use ``sep='\\s+'`` instead\n",
      "  data= pd.read_csv(file, delim_whitespace=True, header=None)\n"
     ]
    }
   ],
   "source": [
    "file = \"datos_t_inter_Moore1_SW05.txt\"\n",
    "\n",
    "data= pd.read_csv(file, delim_whitespace=True, header=None)\n",
    "data.columns = [\"L\", \"P1\", \"P2\", \"t_int\"]  # Nombrar las columnas\n",
    "\n",
    "# Filtrar los datos\n",
    "filtered_data = data[(data[\"L\"] == L)]\n",
    "# Crear una tabla pivote con P1 (evaluación) en el eje X, P2 (regreso) en el eje Y y t_int como el valor\n",
    "heatmap_data = filtered_data.pivot_table(index=\"P2\", columns=\"P1\", values=\"t_int\")\n",
    "# Revertir el orden del índice para que el eje Y no esté al revés\n",
    "heatmap_data = heatmap_data.sort_index(ascending=False)\n",
    "\n",
    "# Graficar el heatmap sin anotaciones\n",
    "plt.figure(figsize=(12, 8))\n",
    "sns.heatmap(heatmap_data, cmap=\"rocket\", cbar_kws={'label': 't_int (Tiempo de Intersección)'})\n",
    "plt.title(f\"Relación entre P evaluación, P regreso y t_int para L={L} {file[-15:-4]}\")\n",
    "plt.xlabel(\"P evaluación\")\n",
    "plt.ylabel(\"P regreso\")\n",
    "plt.show()"
   ]
  },
  {
   "cell_type": "markdown",
   "metadata": {},
   "source": [
    "# Neumann1\n"
   ]
  },
  {
   "cell_type": "code",
   "execution_count": 6,
   "metadata": {},
   "outputs": [],
   "source": [
    "\n",
    "# Filtrar los datos\n",
    "filtered_data = data_N1[(data_N1[\"L\"] == L)]\n",
    "# Crear una tabla pivote con P1 (evaluación) en el eje X, P2 (regreso) en el eje Y y t_int como el valor\n",
    "heatmap_data = filtered_data.pivot_table(index=\"P2\", columns=\"P1\", values=\"t_int\")\n",
    "# Revertir el orden del índice para que el eje Y no esté al revés\n",
    "heatmap_data = heatmap_data.sort_index(ascending=False)\n",
    "\n",
    "# Graficar el heatmap sin anotaciones\n",
    "plt.figure(figsize=(12, 8))\n",
    "sns.heatmap(heatmap_data, cmap=\"rocket\", cbar_kws={'label': 't_int (Tiempo de Intersección)'})\n",
    "plt.title(f\"Relación entre P evaluación, P regreso y t_int para L={L} {file_N1[-12:-4]}\")\n",
    "plt.xlabel(\"P evaluación\")\n",
    "plt.ylabel(\"P regreso\")\n",
    "plt.show()\n"
   ]
  },
  {
   "cell_type": "markdown",
   "metadata": {},
   "source": [
    "# Moore 2\n"
   ]
  },
  {
   "cell_type": "code",
   "execution_count": 7,
   "metadata": {},
   "outputs": [],
   "source": [
    "# Filtrar los datos\n",
    "filtered_data = data_M2[(data_M2[\"L\"] == L)]\n",
    "# Crear una tabla pivote con P1 (evaluación) en el eje X, P2 (regreso) en el eje Y y t_int como el valor\n",
    "heatmap_data = filtered_data.pivot_table(index=\"P2\", columns=\"P1\", values=\"t_int\")\n",
    "# Revertir el orden del índice para que el eje Y no esté al revés\n",
    "heatmap_data = heatmap_data.sort_index(ascending=False)\n",
    "\n",
    "# Graficar el heatmap sin anotaciones\n",
    "plt.figure(figsize=(12, 8))\n",
    "sns.heatmap(heatmap_data, cmap=\"rocket\", cbar_kws={'label': 't_int (Tiempo de Intersección)'})\n",
    "plt.title(f\"Relación entre P evaluación, P regreso y t_int para L={L} {file_M2[-10:-4]}\")\n",
    "plt.xlabel(\"P evaluación\")\n",
    "plt.ylabel(\"P regreso\")\n",
    "plt.show()\n"
   ]
  },
  {
   "cell_type": "markdown",
   "metadata": {},
   "source": [
    "# Neumann 2"
   ]
  },
  {
   "cell_type": "code",
   "execution_count": 13,
   "metadata": {},
   "outputs": [],
   "source": [
    "\n",
    "# Filtrar los datos\n",
    "filtered_data = data_N2[(data_N2[\"L\"] == L)]\n",
    "# Crear una tabla pivote con P1 (evaluación) en el eje X, P2 (regreso) en el eje Y y t_int como el valor\n",
    "heatmap_data = filtered_data.pivot_table(index=\"P2\", columns=\"P1\", values=\"t_int\")\n",
    "# Revertir el orden del índice para que el eje Y no esté al revés\n",
    "heatmap_data = heatmap_data.sort_index(ascending=False)\n",
    "\n",
    "# Graficar el heatmap sin anotaciones\n",
    "plt.figure(figsize=(12, 8))\n",
    "sns.heatmap(heatmap_data, cmap=\"rocket\", cbar_kws={'label': 't_int (Tiempo de Intersección)'})\n",
    "plt.title(f\"Relación entre P evaluación, P regreso y t_int para L={L} {file_N2[-12:-4]}\")\n",
    "plt.xlabel(\"P evaluación\")\n",
    "plt.ylabel(\"P regreso\")\n",
    "plt.show()\n"
   ]
  },
  {
   "cell_type": "code",
   "execution_count": 16,
   "metadata": {},
   "outputs": [],
   "source": [
    "import matplotlib.pyplot as plt\n",
    "import pandas as pd\n",
    "from mpl_toolkits.mplot3d import Axes3D\n",
    "\n",
    "# Filtrar los datos\n",
    "filtered_data = data[(data[\"L\"] == 60) & (data[\"t_int\"] != 100)]\n",
    "\n",
    "# Crear las variables para los ejes\n",
    "P1 = filtered_data[\"P1\"]\n",
    "P2 = filtered_data[\"P2\"]\n",
    "t_int = filtered_data[\"t_int\"]\n",
    "\n",
    "# Crear el gráfico 3D\n",
    "fig = plt.figure(figsize=(12, 8))\n",
    "ax = fig.add_subplot(111, projection='3d')\n",
    "\n",
    "# Dibujar los puntos en el gráfico 3D\n",
    "scatter = ax.scatter(P1, P2, t_int, c=t_int, cmap=\"rocket\", s=50)\n",
    "\n",
    "# Etiquetas de los ejes\n",
    "ax.set_title(\"Relación 3D entre P evaluación, P regreso y t_int\")\n",
    "ax.set_xlabel(\"P evaluación\")\n",
    "ax.set_ylabel(\"P regreso\")\n",
    "ax.set_zlabel(\"t_int (Tiempo de Intersección)\")\n",
    "\n",
    "# Agregar una barra de colores para representar t_int\n",
    "cbar = fig.colorbar(scatter, ax=ax, pad=0.1)\n",
    "cbar.set_label(\"t_int (Tiempo de Intersección)\")\n",
    "\n",
    "plt.show()\n"
   ]
  },
  {
   "cell_type": "code",
   "execution_count": 15,
   "metadata": {},
   "outputs": [
    {
     "ename": "NameError",
     "evalue": "name 'data_moore' is not defined",
     "output_type": "error",
     "traceback": [
      "\u001b[0;31m---------------------------------------------------------------------------\u001b[0m",
      "\u001b[0;31mNameError\u001b[0m                                 Traceback (most recent call last)",
      "Cell \u001b[0;32mIn[15], line 2\u001b[0m\n\u001b[1;32m      1\u001b[0m \u001b[38;5;66;03m# Filtrar los datos\u001b[39;00m\n\u001b[0;32m----> 2\u001b[0m filtered_data \u001b[38;5;241m=\u001b[39m \u001b[43mdata_moore\u001b[49m[(data_moore[\u001b[38;5;124m\"\u001b[39m\u001b[38;5;124mL\u001b[39m\u001b[38;5;124m\"\u001b[39m] \u001b[38;5;241m==\u001b[39m \u001b[38;5;241m60\u001b[39m )\u001b[38;5;241m&\u001b[39m (data[\u001b[38;5;124m\"\u001b[39m\u001b[38;5;124mt_int\u001b[39m\u001b[38;5;124m\"\u001b[39m] \u001b[38;5;241m!=\u001b[39m \u001b[38;5;241m100\u001b[39m)]\n\u001b[1;32m      4\u001b[0m \u001b[38;5;66;03m# Crear las variables para los ejes\u001b[39;00m\n\u001b[1;32m      5\u001b[0m P1 \u001b[38;5;241m=\u001b[39m filtered_data[\u001b[38;5;124m\"\u001b[39m\u001b[38;5;124mP1\u001b[39m\u001b[38;5;124m\"\u001b[39m]\n",
      "\u001b[0;31mNameError\u001b[0m: name 'data_moore' is not defined"
     ]
    }
   ],
   "source": [
    "# Filtrar los datos\n",
    "filtered_data = data_moore[(data_moore[\"L\"] == 60 )& (data[\"t_int\"] != 100)]\n",
    "\n",
    "# Crear las variables para los ejes\n",
    "P1 = filtered_data[\"P1\"]\n",
    "P2 = filtered_data[\"P2\"]\n",
    "t_int = filtered_data[\"t_int\"]\n",
    "\n",
    "# Crear el gráfico 3D\n",
    "fig = plt.figure(figsize=(12, 8))\n",
    "ax = fig.add_subplot(111, projection='3d')\n",
    "\n",
    "# Dibujar los puntos en el gráfico 3D\n",
    "scatter = ax.scatter(P1, P2, t_int, c=t_int, cmap=\"rocket\", s=50)\n",
    "\n",
    "# Etiquetas de los ejes\n",
    "ax.set_title(\"Relación 3D entre P evaluación, P regreso y t_int\")\n",
    "ax.set_xlabel(\"P evaluación\")\n",
    "ax.set_ylabel(\"P regreso\")\n",
    "ax.set_zlabel(\"t_int (Tiempo de Interacción)\")\n",
    "\n",
    "# Agregar una barra de colores para representar t_int\n",
    "cbar = fig.colorbar(scatter, ax=ax, pad=0.1)\n",
    "cbar.set_label(\"t_int (Tiempo de Interacción)\")\n",
    "\n",
    "plt.show()"
   ]
  }
 ],
 "metadata": {
  "kernelspec": {
   "display_name": "usr",
   "language": "python",
   "name": "python3"
  },
  "language_info": {
   "codemirror_mode": {
    "name": "ipython",
    "version": 3
   },
   "file_extension": ".py",
   "mimetype": "text/x-python",
   "name": "python",
   "nbconvert_exporter": "python",
   "pygments_lexer": "ipython3",
   "version": "3.12.2"
  }
 },
 "nbformat": 4,
 "nbformat_minor": 2
}
