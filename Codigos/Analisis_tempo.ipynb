{
 "cells": [
  {
   "cell_type": "code",
   "execution_count": 9,
   "metadata": {},
   "outputs": [],
   "source": [
    "import numpy as np\n",
    "import matplotlib.pyplot as plt"
   ]
  },
  {
   "cell_type": "code",
   "execution_count": 109,
   "metadata": {},
   "outputs": [],
   "source": [
    "import pandas as pd\n",
    "import matplotlib.pyplot as plt\n",
    "import seaborn as sns\n",
    "# Cargar los datos desde el archivo txt\n",
    "\n",
    "data_10= pd.read_csv(\"datos_t_inter_N1_200.txt\", delim_whitespace=True, header=None)\n",
    "data_10.columns = [\"L\",\"Pr\",\"t\",\"C0\", \"C1\", \"C2\"]  # Nombrar las columnas\n",
    "\n",
    "%matplotlib qt"
   ]
  },
  {
   "cell_type": "markdown",
   "metadata": {},
   "source": [
    "# Neummann "
   ]
  },
  {
   "cell_type": "code",
   "execution_count": null,
   "metadata": {},
   "outputs": [],
   "source": [
    "\n",
    "for pr in range(11):\n",
    "    data_pr =data_10[data_10[\"Pr\"]==pr/10]\n",
    "\n",
    "    plt.plot(data_pr[\"t\"],data_pr[\"C0\"],label=pr/10)\n",
    "plt.legend()"
   ]
  },
  {
   "cell_type": "code",
   "execution_count": 171,
   "metadata": {},
   "outputs": [],
   "source": []
  },
  {
   "cell_type": "code",
   "execution_count": 182,
   "metadata": {},
   "outputs": [],
   "source": [
    "import pandas as pd\n",
    "import numpy as np\n",
    "import matplotlib.pyplot as plt\n",
    "\n",
    "# Dictionary to store data for each probability\n",
    "data_by_pr = {}\n",
    "\n",
    "# Loop through different data files\n",
    "for i in range(10):\n",
    "    # Read and process each data file\n",
    "    L = ((i + 1) * 2) * 10  # Calculate the system size L\n",
    "    data = pd.read_csv(f\"datos_t_inter_N1_{L}.txt\", delim_whitespace=True, header=None)\n",
    "    data.columns = [\"L\", \"Pr\", \"t\", \"C0\", \"C1\", \"C2\"]  # Assign column names\n",
    "\n",
    "    # Filter rows where C0 is zero and get the first time for each Pr\n",
    "    data_filtered = data[data[\"C0\"] <= data[\"C2\"]]\n",
    "    first_times = data_filtered.groupby(\"Pr\")[\"t\"].first()\n",
    "\n",
    "    # Store data for each probability\n",
    "    for pr_value, t_value in first_times.items():\n",
    "        if (pr_value*10)%1 !=0:\n",
    "            continue\n",
    "        if pr_value not in data_by_pr:\n",
    "            data_by_pr[pr_value] = []\n",
    "        data_by_pr[pr_value].append((L, t_value))\n",
    "\n",
    "# Plot the data\n",
    "plt.figure(figsize=(12, 6))\n",
    "plt.subplot(1, 2, 2)\n",
    "\n",
    "for pr_value, values in data_by_pr.items():\n",
    "    # if pr_value >= 0.6:\n",
    "    #     continue\n",
    "    values = sorted(values)  # Sort by L\n",
    "    sizes, times = zip(*values)\n",
    "    plt.plot(sizes, times, marker='o', label=f'Pr = {pr_value}')\n",
    "plt.xlabel('Tamaño del sistema (L)')\n",
    "plt.ylabel('Tiempo (t)')\n",
    "plt.title('Tamaño del sistema vs Tiempo')\n",
    "plt.legend(title='P regreso')\n",
    "plt.grid(True)\n",
    "\n",
    "# --- Second subplot: Pr >= 0.6 ---\n",
    "plt.subplot(1, 2, 1)\n",
    "for i in range(10):\n",
    "    # Read and process each data file\n",
    "    data = pd.read_csv(f\"datos_t_inter_N1_{((i+1)*2)*10}.txt\", delim_whitespace=True, header=None)\n",
    "    data.columns = [\"L\", \"Pr\", \"t\", \"C0\", \"C1\", \"C2\"]  # Assign column names\n",
    "\n",
    "    # Filter rows where C0 is zero and get the first time for each Pr\n",
    "    data_filtered = data[data[\"C0\"] <=data[\"C2\"]]\n",
    "    first_times = data_filtered.groupby(\"Pr\")[\"t\"].first()\n",
    "\n",
    "    # Plot the data without normalization (adjust normalization if needed)\n",
    "    plt.plot(first_times, label=f'L = {((i+1)*2) * 10}')\n",
    "\n",
    "# Add legend, labels, and title\n",
    "plt.legend(title='Tamaño del sistema (L x L)')\n",
    "plt.xlabel('Probabilidad de regreso (Pr)')\n",
    "plt.xlim(0,1)\n",
    "plt.ylabel('Tiempo (t)')\n",
    "plt.grid(True)  # Add grid for better visualization\n",
    "\n",
    "# Display the plot\n",
    "plt.show()\n",
    "\n",
    "\n"
   ]
  },
  {
   "cell_type": "code",
   "execution_count": 137,
   "metadata": {},
   "outputs": [],
   "source": [
    "plt.figure(figsize=(10, 6))\n",
    "\n",
    "for pr_value, values in data_by_pr.items():\n",
    "    if(pr_value <=0.6):\n",
    "        continue\n",
    "    values = sorted(values)  # Sort by L\n",
    "    sizes, times = zip(*values)  # Separate sizes and times\n",
    "    plt.plot(sizes, times, marker='o', label=f'Pr = {pr_value}')\n",
    "\n",
    "# Customize the plot\n",
    "plt.xlabel('Tamaño del sistema (L)')\n",
    "plt.ylabel('Tiempo (t)')\n",
    "plt.title('Tamaño del sistema vs Tiempo para diferentes probabilidades')\n",
    "plt.legend(title='Probabilidad (Pr)')\n",
    "plt.grid(True)\n",
    "\n",
    "# Display the plot\n",
    "plt.show()"
   ]
  },
  {
   "cell_type": "code",
   "execution_count": null,
   "metadata": {},
   "outputs": [],
   "source": [
    "print((0.45*10)%(0.1*10))"
   ]
  }
 ],
 "metadata": {
  "kernelspec": {
   "display_name": "usr",
   "language": "python",
   "name": "python3"
  },
  "language_info": {
   "codemirror_mode": {
    "name": "ipython",
    "version": 3
   },
   "file_extension": ".py",
   "mimetype": "text/x-python",
   "name": "python",
   "nbconvert_exporter": "python",
   "pygments_lexer": "ipython3",
   "version": "3.12.3"
  }
 },
 "nbformat": 4,
 "nbformat_minor": 2
}
