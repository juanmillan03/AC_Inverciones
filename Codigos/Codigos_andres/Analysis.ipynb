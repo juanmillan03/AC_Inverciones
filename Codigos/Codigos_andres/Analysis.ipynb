{
 "cells": [
  {
   "cell_type": "code",
   "execution_count": 1,
   "metadata": {},
   "outputs": [],
   "source": [
    "import numpy as np\n",
    "import matplotlib.pyplot as plt\n",
    "import matplotlib.cm as cm"
   ]
  },
  {
   "cell_type": "code",
   "execution_count": 32,
   "metadata": {},
   "outputs": [
    {
     "name": "stdout",
     "output_type": "stream",
     "text": [
      "(2001, 3)\n"
     ]
    }
   ],
   "source": [
    "data = np.loadtxt('datos_counts.txt')\n",
    "print(data.shape)"
   ]
  },
  {
   "cell_type": "code",
   "execution_count": 94,
   "metadata": {},
   "outputs": [],
   "source": [
    "%matplotlib qt\n",
    "plt.figure()\n",
    "plt.plot(data[:,0])\n",
    "plt.plot(data[:,1])\n",
    "plt.plot(data[:,2])\n",
    "plt.xlabel('Tiempo (pasos)')\n",
    "plt.ylabel('Número de agentes propensos al riesgo')\n",
    "plt.xlim(0, 1000)\n",
    "\n",
    "plt.show()"
   ]
  },
  {
   "cell_type": "code",
   "execution_count": 85,
   "metadata": {},
   "outputs": [],
   "source": [
    "x = np.linspace(0,2000,2001)\n",
    "\n",
    "dy0 = np.gradient(data[:,0])\n",
    "dy1 = np.gradient(data[:,1])\n",
    "dy2 = np.gradient(data[:,2])\n",
    "\n",
    "dx = np.gradient(x)\n",
    "\n",
    "derivative0 = dy0/dx\n",
    "derivative1 = dy1/dx\n",
    "derivative2 = dy2/dx\n"
   ]
  },
  {
   "cell_type": "code",
   "execution_count": 89,
   "metadata": {},
   "outputs": [],
   "source": [
    "derivative_sets0 = derivative0[:-1001].reshape(100,10)\n",
    "derivative_sets1 = derivative1[:-1001].reshape(100,10)\n",
    "derivative_sets2 = derivative2[:-1001].reshape(100,10)\n",
    "\n",
    "mean_derivatives0 = np.mean(derivative_sets0, axis=1)\n",
    "mean_derivatives1 = np.mean(derivative_sets1, axis=1)\n",
    "mean_derivatives2 = np.mean(derivative_sets2, axis=1)"
   ]
  },
  {
   "cell_type": "code",
   "execution_count": 95,
   "metadata": {},
   "outputs": [],
   "source": [
    "new_x = np.linspace(0,1000,100)\n",
    "plt.figure()\n",
    "plt.plot(new_x, mean_derivatives0, marker = 'o')\n",
    "plt.plot(new_x, mean_derivatives1, marker = 'o')\n",
    "plt.plot(new_x, mean_derivatives2, marker = 'o')\n",
    "plt.xlabel('Tiempo (pasos)')\n",
    "plt.ylabel('Derivada del número de agentes propensos al riesgo')\n",
    "plt.grid()\n",
    "plt.show()"
   ]
  }
 ],
 "metadata": {
  "kernelspec": {
   "display_name": "Personal",
   "language": "python",
   "name": "python3"
  },
  "language_info": {
   "codemirror_mode": {
    "name": "ipython",
    "version": 3
   },
   "file_extension": ".py",
   "mimetype": "text/x-python",
   "name": "python",
   "nbconvert_exporter": "python",
   "pygments_lexer": "ipython3",
   "version": "3.12.2"
  }
 },
 "nbformat": 4,
 "nbformat_minor": 2
}
