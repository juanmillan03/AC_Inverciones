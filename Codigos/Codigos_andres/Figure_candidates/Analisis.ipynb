{
 "cells": [
  {
   "cell_type": "code",
   "execution_count": 3,
   "metadata": {},
   "outputs": [],
   "source": [
    "import numpy as np\n",
    "import matplotlib.pyplot as plt\n",
    "import matplotlib.cm as cm"
   ]
  },
  {
   "cell_type": "code",
   "execution_count": 216,
   "metadata": {},
   "outputs": [
    {
     "name": "stdout",
     "output_type": "stream",
     "text": [
      "(10010, 3)\n",
      "(10, 1001, 3)\n"
     ]
    }
   ],
   "source": [
    "data = np.loadtxt('datos_counts.txt')\n",
    "conditions = np.loadtxt('datos_t_inter.txt')\n",
    "states = ['Propenso al riesgo', 'Evaluando', 'Averso al riesgo']\n",
    "print(np.shape(data))\n",
    "data = data.reshape(np.shape(data)[0]//1001, 1001, 3)\n",
    "print(np.shape(data))"
   ]
  },
  {
   "cell_type": "code",
   "execution_count": 219,
   "metadata": {},
   "outputs": [],
   "source": [
    "%matplotlib qt\n",
    "plt.close()\n",
    "version = np.shape(data)[0]-1\n",
    "for i in range(np.shape(data)[2]):\n",
    "    plt.plot(data[version,:,i], label=states[i])\n",
    "\n",
    "plt.legend()\n",
    "plt.xlabel('Tiempo (pasos)')\n",
    "plt.xlim(0, 350)\n",
    "plt.ylabel('Agentes en dicho estado')\n",
    "#plt.title(f'Neumann radio 1. Tamaño de la red:{conditions[0]:.0f}x{conditions[0]:.0f} \\n Probabilidad de evaluación: {conditions[1]} Probabilidad de regreso: {conditions[2]}')\n",
    "\n",
    "plt.savefig(f'EvolucionTemporal_{conditions[version,0]:.0f}_{conditions[version,1]:.2f}_{conditions[version,2]:.2f}.png')\n",
    "plt.show()"
   ]
  },
  {
   "cell_type": "code",
   "execution_count": 11,
   "metadata": {},
   "outputs": [],
   "source": [
    "#Para plots de cascada (mover a otro script)\n",
    "'''%matplotlib qt\n",
    "norm  = plt.Normalize(min(conditions[:,2]), max(conditions[:,2]))\n",
    "cmap1 = cm.Blues\n",
    "\n",
    "for i in np.linspace(0,len(reshaped_data)-1, 11).astype(int):\n",
    "\n",
    "    plt.plot(reshaped_data[i,:,0], label = f'Prob. regreso:{conditions[i,2]}', color = cmap1(norm(conditions[i,2])))\n",
    "\n",
    "plt.title(f'Vecindad: Neumann. Radio: 1. \\n Tamaño: {conditions[0,0]:.0f}x{conditions[0,0]:.0f} Probabilidad de evaluacion: {conditions[0,1]:.2f}', fontsize = 22)\n",
    "plt.xlabel('Tiempo (pasos)', fontsize = 16)\n",
    "plt.ylabel('Agentes propensos al riesgo', fontsize = 16)\n",
    "plt.legend()\n",
    "#plt.savefig(f'Neumann_1_{conditions[0,0]:.0f}x{conditions[0,0]:.0f}_{conditions[0,1]:.2f}.pdf')\n",
    "plt.show()'''"
   ]
  }
 ],
 "metadata": {
  "kernelspec": {
   "display_name": "Personal",
   "language": "python",
   "name": "python3"
  },
  "language_info": {
   "codemirror_mode": {
    "name": "ipython",
    "version": 3
   },
   "file_extension": ".py",
   "mimetype": "text/x-python",
   "name": "python",
   "nbconvert_exporter": "python",
   "pygments_lexer": "ipython3",
   "version": "3.12.2"
  }
 },
 "nbformat": 4,
 "nbformat_minor": 2
}
