{
 "cells": [
  {
   "cell_type": "code",
   "execution_count": null,
   "metadata": {},
   "outputs": [],
   "source": [
    "import numpy as np\n",
    "import matplotlib.pyplot as plt\n",
    "import matplotlib.cm as cm"
   ]
  },
  {
   "cell_type": "code",
   "execution_count": null,
   "metadata": {},
   "outputs": [],
   "source": [
    "data_set = np.loadtxt('datos_t_inter.txt')\n",
    "print(np.shape(data_set))\n",
    "data_set = data_set.reshape(5,121,5)    #5 sizes, 121 prob. combinations, 5 columns (size, prob_ev, prob_ret, t_inter, t_collapse)\n",
    "print(np.shape(data_set))"
   ]
  },
  {
   "cell_type": "code",
   "execution_count": null,
   "metadata": {},
   "outputs": [],
   "source": [
    "data_range = data_set[np.where((data_set[:,:,2] == 1) & (data_set[:,:,1] != 0))]\n",
    "print(np.shape(data_range))\n",
    "data_range = np.reshape(data_range, (5, 10,5))\n",
    "#print(data_range[0])"
   ]
  },
  {
   "cell_type": "code",
   "execution_count": null,
   "metadata": {},
   "outputs": [],
   "source": [
    "%matplotlib qt\n",
    "norm = plt.Normalize(0, 100)\n",
    "cmap = cm.Greens\n",
    "\n",
    "plt.close()\n",
    "for i in range(len(data_range)):\n",
    "    plt.plot(data_range[i,:,1], data_range[i,:,4], color = cmap(norm(data_set[i,0,0])), marker = 'o', label = f'Tamaño: {data_range[i,0,0]:.0f}x{data_range[i,0,0]:.0f}')\n",
    "\n",
    "\n",
    "#plt.scatter(data_range[:,2], data_range[:,4], c=cmap(norm(data_range[:,0])))\n",
    "plt.xlabel('Probabilidad de evaluación')\n",
    "plt.ylabel('Tiempo de colapso (pasos)')\n",
    "plt.title(f'Prob. de regreso: {data_range[0,0,2]:.1f}')\n",
    "\n",
    "plt.legend()\n",
    "plt.savefig(f'Collapse_times/Prob_reg_{data_range[0,0,2]:.1f}.pdf')\n",
    "plt.show()"
   ]
  }
 ],
 "metadata": {
  "language_info": {
   "name": "python"
  }
 },
 "nbformat": 4,
 "nbformat_minor": 2
}
